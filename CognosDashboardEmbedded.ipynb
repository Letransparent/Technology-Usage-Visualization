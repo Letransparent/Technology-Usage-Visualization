https://us1.ca.analytics.ibm.com/bi/?perspective=dashboard&pathRef=.my_folders%2FTechnology%2BUsage%2B%25281%2529&action=view&mode=dashboard&subView=model0000018fde0aea41_00000002 
