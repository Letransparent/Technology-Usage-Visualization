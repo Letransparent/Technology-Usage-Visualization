{
 "cells": [
  {
   "cell_type": "markdown",
   "id": "1637ee49",
   "metadata": {},
   "source": [
    "# Cliquer sur le lien ci-dessous pour voir le tableau de bord sur IBM Cognos analytics"
   ]
  },
  {
   "cell_type": "markdown",
   "id": "cbc2c29f",
   "metadata": {},
   "source": [
    "https://us1.ca.analytics.ibm.com/bi/?perspective=dashboard&pathRef=.my_folders%2FTechnology%2BUsage%2B%25281%2529&action=view&mode=dashboard&subView=model0000018fde0aea41_00000002"
   ]
  },
  {
   "cell_type": "code",
   "execution_count": null,
   "id": "dc8c328d",
   "metadata": {},
   "outputs": [],
   "source": [
    "url_dashboard = 'https://us1.ca.analytics.ibm.com/bi/?perspective=dashboard&pathRef=.my_folders%2FTechnology%2BUsage%2B%25281%2529&action=view&mode=dashboard&subView=model0000018fde0aea41_00000002'"
   ]
  },
  {
   "cell_type": "code",
   "execution_count": null,
   "id": "194a36f6",
   "metadata": {},
   "outputs": [],
   "source": []
  }
 ],
 "metadata": {
  "kernelspec": {
   "display_name": "Python 3 (ipykernel)",
   "language": "python",
   "name": "python3"
  },
  "language_info": {
   "codemirror_mode": {
    "name": "ipython",
    "version": 3
   },
   "file_extension": ".py",
   "mimetype": "text/x-python",
   "name": "python",
   "nbconvert_exporter": "python",
   "pygments_lexer": "ipython3",
   "version": "3.9.7"
  }
 },
 "nbformat": 4,
 "nbformat_minor": 5
}
